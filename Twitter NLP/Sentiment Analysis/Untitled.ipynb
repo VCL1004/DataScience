{
 "cells": [
  {
   "cell_type": "code",
   "execution_count": 1,
   "metadata": {
    "collapsed": true
   },
   "outputs": [],
   "source": [
    "from itertools import chain\n",
    "from glob import glob\n",
    "import pandas as pd"
   ]
  },
  {
   "cell_type": "code",
   "execution_count": 14,
   "metadata": {
    "collapsed": true
   },
   "outputs": [],
   "source": [
    "file = open('unclassified_tweets.txt', 'r')\n",
    "        \n",
    "lines = [line.lower() for line in file]\n",
    "with open('unclassified_tweets1.txt', 'w') as out:\n",
    "    out.writelines(lines)"
   ]
  },
  {
   "cell_type": "code",
   "execution_count": 2,
   "metadata": {},
   "outputs": [
    {
     "name": "stdout",
     "output_type": "stream",
     "text": [
      "        class\n",
      "0           0\n",
      "1           0\n",
      "2           0\n",
      "3           0\n",
      "4           0\n",
      "5           0\n",
      "6           0\n",
      "7           0\n",
      "8           0\n",
      "9           0\n",
      "10          0\n",
      "11          0\n",
      "12          0\n",
      "13          0\n",
      "14          0\n",
      "15          0\n",
      "16          0\n",
      "17          0\n",
      "18          0\n",
      "19          0\n",
      "20          0\n",
      "21          0\n",
      "22          0\n",
      "23          0\n",
      "24          0\n",
      "25          0\n",
      "26          0\n",
      "27          0\n",
      "28          0\n",
      "29          0\n",
      "...       ...\n",
      "199970      4\n",
      "199971      4\n",
      "199972      4\n",
      "199973      4\n",
      "199974      4\n",
      "199975      4\n",
      "199976      4\n",
      "199977      4\n",
      "199978      4\n",
      "199979      4\n",
      "199980      4\n",
      "199981      4\n",
      "199982      4\n",
      "199983      4\n",
      "199984      4\n",
      "199985      4\n",
      "199986      4\n",
      "199987      4\n",
      "199988      4\n",
      "199989      4\n",
      "199990      4\n",
      "199991      4\n",
      "199992      4\n",
      "199993      4\n",
      "199994      4\n",
      "199995      4\n",
      "199996      4\n",
      "199997      4\n",
      "199998      4\n",
      "199999      4\n",
      "\n",
      "[200000 rows x 1 columns]\n"
     ]
    }
   ],
   "source": [
    "df = pd.read_csv('classified_tweets.txt', usecols=[\"class\"])\n",
    "\n",
    "print(df)"
   ]
  },
  {
   "cell_type": "code",
   "execution_count": 3,
   "metadata": {
    "collapsed": true
   },
   "outputs": [],
   "source": [
    "def word_frequency(data):\n",
    "    data_sp = data.split() #split data to words\n",
    "    file = open('corpus.txt', 'r+')\n",
    "    line = file.readline()\n",
    "    count = 0\n",
    "    word = line.split() #split line to words list\n",
    "    count += data_sp.count(word[0])\n",
    "    while line:\n",
    "        line = file.readline()\n",
    "        word = line.split()\n",
    "        if len(word):\n",
    "            count += data_sp.count(word[0])\n",
    "    return count\n",
    "    f.close()"
   ]
  },
  {
   "cell_type": "code",
   "execution_count": 5,
   "metadata": {},
   "outputs": [
    {
     "name": "stdout",
     "output_type": "stream",
     "text": [
      "2\n"
     ]
    }
   ],
   "source": [
    "test = str(\"4 1693956160 Mon May 04 00:27:14 PDT 2009 NO_QUERY noraezan Some ppl are just fucking KP0. Cb ! Stop asking me laa.. I love my boyfriend and thats it. \")\n",
    "print (word_frequency(test))"
   ]
  },
  {
   "cell_type": "code",
   "execution_count": null,
   "metadata": {
    "collapsed": true
   },
   "outputs": [],
   "source": []
  }
 ],
 "metadata": {
  "kernelspec": {
   "display_name": "Python 3",
   "language": "python",
   "name": "python3"
  },
  "language_info": {
   "codemirror_mode": {
    "name": "ipython",
    "version": 3
   },
   "file_extension": ".py",
   "mimetype": "text/x-python",
   "name": "python",
   "nbconvert_exporter": "python",
   "pygments_lexer": "ipython3",
   "version": "3.6.2"
  }
 },
 "nbformat": 4,
 "nbformat_minor": 2
}
