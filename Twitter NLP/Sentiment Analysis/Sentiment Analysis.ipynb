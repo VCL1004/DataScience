{
 "cells": [
  {
   "cell_type": "code",
   "execution_count": 1,
   "metadata": {
    "collapsed": true
   },
   "outputs": [],
   "source": [
    "import numpy as np\n",
    "import scipy \n",
    "import sklearn\n",
    "import matplotlib.pyplot as plt\n",
    "import pandas as pd\n",
    "import nltk\n",
    "import re\n",
    "import html\n",
    "from itertools import chain\n",
    "from glob import glob\n",
    "from sklearn.model_selection import train_test_split\n",
    "from sklearn.linear_model import LogisticRegression\n",
    "import sklearn.metrics as metrics \n",
    "from sklearn.metrics import accuracy_score\n",
    "from sklearn.naive_bayes import GaussianNB"
   ]
  },
  {
   "cell_type": "markdown",
   "metadata": {},
   "source": [
    "# Question 1 Data Cleaning"
   ]
  },
  {
   "cell_type": "code",
   "execution_count": 225,
   "metadata": {
    "collapsed": true,
    "scrolled": false
   },
   "outputs": [],
   "source": [
    "#remove '\\n' from unclassified_tweets.txt for preparing furture use\n",
    "tweets = open(\"unclassified_tweets.txt\", \"r\")\n",
    "lines = [line for line in tweets]\n",
    "data_new = [word for word in lines if word != '\\n']\n",
    "data = ' '.join(data_new)\n",
    "#print (data_new)\n",
    "with open('unclassified_tweets.txt', 'w') as out:\n",
    "    out.writelines(data_new)\n",
    "#Save the changed data to original file"
   ]
  },
  {
   "cell_type": "markdown",
   "metadata": {},
   "source": [
    "###### All characters in the text are in lowercase"
   ]
  },
  {
   "cell_type": "code",
   "execution_count": 226,
   "metadata": {
    "collapsed": true
   },
   "outputs": [],
   "source": [
    "file = open('unclassified_tweets.txt', 'r')\n",
    "        \n",
    "lines = [line.lower() for line in file]\n",
    "#print(lines)\n",
    "with open('unclassified_tweets.txt', 'w') as out:\n",
    "    out.writelines(lines)"
   ]
  },
  {
   "cell_type": "markdown",
   "metadata": {},
   "source": [
    "###### All html tags and attributes (i.e., /<[^>]+>/) are removed."
   ]
  },
  {
   "cell_type": "code",
   "execution_count": 227,
   "metadata": {
    "collapsed": true
   },
   "outputs": [],
   "source": [
    "#Function for removing html tags and attribute\n",
    "def rm_html(data): \n",
    "    data = re.sub('<[^>]+>', '', data) #regexp for html tags and attributes\n",
    "    return data\n",
    "#test = str('Well he is [] just a #liberal after all. &amp; if thats the intellect you want to spend a vote on, dont waste the paper.')\n",
    "#print(rm_html(test))"
   ]
  },
  {
   "cell_type": "markdown",
   "metadata": {},
   "source": [
    "###### Html character codes (i.e., &...;) are replaced with an ASCII equivalent."
   ]
  },
  {
   "cell_type": "code",
   "execution_count": 228,
   "metadata": {
    "collapsed": true
   },
   "outputs": [],
   "source": [
    "#Function for replacing html character codes with an ASCII equivalent\n",
    "def ascii_rplc(data):\n",
    "    data = html.unescape(data)\n",
    "    return data\n",
    "#test = str('Suzy &amp; John, &quot;, \\n')\n",
    "#print(ascii_rplc(test))"
   ]
  },
  {
   "cell_type": "markdown",
   "metadata": {},
   "source": [
    "###### All URLs are removed."
   ]
  },
  {
   "cell_type": "code",
   "execution_count": 229,
   "metadata": {
    "collapsed": true
   },
   "outputs": [],
   "source": [
    "#Function for removing URLs\n",
    "def rm_URL(data):\n",
    "    data = re.sub('\\s+\\S+.[^\\s]+/\\S+',' ', data) #RegExp for URL\n",
    "    return data\n",
    "# test = str('justin #trudeaus reasons for thanksgiving. todays montreal@themoment blog at bit.ly/1jqkfwr  #elxn42 poll #quebec #montreal')\n",
    "# test = rm_URL(test)\n",
    "# print(test)"
   ]
  },
  {
   "cell_type": "markdown",
   "metadata": {},
   "source": [
    "###### All stopwords are removed. Be clear in what you consider as a stopword. All stopwords removed: well liberal intellect spend vote waste paper"
   ]
  },
  {
   "cell_type": "code",
   "execution_count": 230,
   "metadata": {
    "collapsed": true
   },
   "outputs": [],
   "source": [
    "def remove_stop_words(data):\n",
    "    \n",
    "    fstop = open('stop_words.txt','r')  # open the stop words file\n",
    "    lines = fstop.readlines()  # read each line of stop_words file\n",
    "    newlines = [line.replace('\\n','') for line in lines]  # replace '\\n' in each line\n",
    "    fstop.close()  \n",
    "    words = data.split()  # convert the string into list\n",
    "    data_new = [word for word in words if word not in newlines]  \n",
    "    # removing stop words\n",
    "    data = ' '.join(data_new)  # covert the list back to string\n",
    "    \n",
    "    return data   \n",
    "        "
   ]
  },
  {
   "cell_type": "code",
   "execution_count": 231,
   "metadata": {
    "collapsed": true
   },
   "outputs": [],
   "source": [
    "file = open('unclassified_tweets.txt','r+')  # Open the file with read and write permit\n",
    "line = file.readline() # Read the first line\n",
    "line_html = rm_html(line) #removing html tags\n",
    "line_ascii = ascii_rplc(line_html) #replacing to ascii\n",
    "line_url = rm_URL(line_ascii) #removing URL\n",
    "line2 = remove_stop_words(line_url) #removing Stop words\n",
    "lines = line2\n",
    "#print(line)\n",
    "while len(line)>0:  # If the line is not empty keep reading one line each time till the file is empty\n",
    "    line = file.readline()  # read the rest of lines\n",
    "    #print(line)\n",
    "    line_html = rm_html(line)\n",
    "    line_ascii = ascii_rplc(line_html)\n",
    "    line_url = rm_URL(line_ascii)\n",
    "    line2 = remove_stop_words(line_url)\n",
    "    #Same as above but for the rest of lines\n",
    "    lines += '\\n' + line2 #split each tweet by '\\n'\n",
    "    #print(len(lines))\n",
    "    #if not len(line) : break\n",
    "    #print(lines)\n",
    "with open('unclassified_tweets2.txt', 'w') as out:\n",
    "    out.writelines(lines)\n",
    "#\n",
    "#print(lines)\n",
    "file.close()"
   ]
  },
  {
   "cell_type": "markdown",
   "metadata": {
    "collapsed": true
   },
   "source": [
    "# Questions 2 Exploratory Analysys"
   ]
  },
  {
   "cell_type": "markdown",
   "metadata": {},
   "source": [
    "###### Party Determining"
   ]
  },
  {
   "cell_type": "markdown",
   "metadata": {},
   "source": [
    " #Algrithm to filter the tweet. Firstly we get the number of the hashtag mentioned in the tweet, then identify the party. \n",
    " #Each tweet should belongs to only one party, whose name be returned.\n",
    " #If one party mentioned sequences are greater than other party, that party's name will be returned.\n",
    " #If the frequency of different parties are the same, or the frequency is none, the return value would be other, which means that tweet belongs to no party."
   ]
  },
  {
   "cell_type": "code",
   "execution_count": 233,
   "metadata": {
    "collapsed": true
   },
   "outputs": [],
   "source": [
    "def party_det(data):\n",
    "    # finished process the data input into the string with only alnum and # \n",
    "    lpctag = {'#realchange': 1, '#justin': 1, '#trudeau': 1, '#justintrudeau': 1,\n",
    "              '#liberal': 1, 'LPC': 1, '#teamtrudeau': 1, '#trudeaus': 1} #tags for Liberal\n",
    "    cpctag = {'#conservatives': 1,'#CPC': 1,'#conservative': 1} #Tags for Conservative\n",
    "    ndptag = {'#NDP': 1,'#mulcair': 1,'#ptndp': 1,'#ndp': 1} #Tags for NDP\n",
    "    othertag = {'#green': 1,'#freedom': 1} #Tags for others\n",
    "    lpc = 0\n",
    "    cpc = 0\n",
    "    ndp = 0\n",
    "    other = 0 \n",
    "\n",
    "    for j in data.split():\n",
    "        other = other + othertag.get(j,0)+1 \n",
    "        lpc = lpc + lpctag.get(j,0)+1\n",
    "        cpc = cpc + cpctag.get(j,0)+1 \n",
    "        ndp = ndp + ndptag.get(j,0)+1\n",
    "        \n",
    "    if other > max(lpc, cpc, ndp) or lpc == max(other, cpc, ndp) or cpc == (lpc, other, ndp) or ndp == max(lpc, cpc, other):\n",
    "        return 'others' \n",
    "        \n",
    "    elif lpc > max(other,cpc,ndp) and lpc != max(other,cpc,ndp):     \n",
    "        return 'Liberal'  \n",
    "        \n",
    "    elif cpc > max(other,lpc,ndp) and cpc != max(other,lpc,ndp):     \n",
    "        return 'Conservative'\n",
    "        \n",
    "    elif ndp > max(other,lpc,cpc) and ndp != max(other,lpc,cpc):     \n",
    "        return 'NDP'"
   ]
  },
  {
   "cell_type": "markdown",
   "metadata": {},
   "source": [
    "Ploting of distribution of unclassified data"
   ]
  },
  {
   "cell_type": "code",
   "execution_count": 235,
   "metadata": {},
   "outputs": [
    {
     "name": "stdout",
     "output_type": "stream",
     "text": [
      "2273 399 103 303\n"
     ]
    },
    {
     "data": {
      "image/png": "[encoded data removed]",
      "text/plain": [
       "<matplotlib.figure.Figure at 0x20db71f60>"
      ]
     },
     "metadata": {},
     "output_type": "display_data"
    }
   ],
   "source": [
    "file = open('unclassified_tweets.txt','r+')  # Open the file with read and write permit\n",
    "line = file.readline() # Read the first line\n",
    "party_type = party_det(line)\n",
    "party_list = []\n",
    "party_list.append(party_type)\n",
    "#print(type(party))\n",
    "while len(line)>0:  # If the line is not empty keep reading line one at a time till the file is empty\n",
    "    line = file.readline() # Read the first line\n",
    "    party_type = party_det(line)\n",
    "    party_list.append(party_type)\n",
    "    #print(party_type)\n",
    "#print(party_list)\n",
    "other_num = party_list.count('others')\n",
    "lpc_num = party_list.count('Liberal') #number of Liberal tweets\n",
    "cpc_num = party_list.count('Conservative') #number of CPC tweets\n",
    "ndp_num = party_list.count('NDP') #number of NDP tweets\n",
    "print (other_num,lpc_num, cpc_num, ndp_num)\n",
    "y = [lpc_num, cpc_num, ndp_num]\n",
    "\n",
    "plt.plot(y, 'bs')\n",
    "plt.xlabel('Party')\n",
    "plt.ylabel('Number')\n",
    "plt.xticks(index, ( 'Liberal', 'Conservative', 'NDP'))\n",
    "plt.title(None)\n",
    "\n",
    "plt.show()"
   ]
  },
  {
   "cell_type": "markdown",
   "metadata": {},
   "source": [
    "Ploting of distribution of unclassified data"
   ]
  },
  {
   "cell_type": "code",
   "execution_count": 236,
   "metadata": {},
   "outputs": [
    {
     "name": "stdout",
     "output_type": "stream",
     "text": [
      "200002 0 0 0\n"
     ]
    },
    {
     "data": {
      "image/png": "[encoded data removed]",
      "text/plain": [
       "<matplotlib.figure.Figure at 0x20daadf60>"
      ]
     },
     "metadata": {},
     "output_type": "display_data"
    }
   ],
   "source": [
    "file = open('classified_tweets.txt','r+')  # Open the file with read and write permit\n",
    "line = file.readline() # Read the first line\n",
    "\n",
    "party_type = party_det(line[5])\n",
    "#print(party_type)\n",
    "party_list = []\n",
    "party_list.append(party_type)\n",
    "#print(type(party))\n",
    "while line:  # If the line is not empty keep reading line one at a time till the file is empty\n",
    "    line = file.readline() # Read the first line\n",
    "    party_type = party_det(line)\n",
    "    #print(party_type)\n",
    "    party_list.append(party_type)\n",
    "    #print(party_type)\n",
    "#print(party_list)\n",
    "other_num = party_list.count('others')\n",
    "lpc_num = party_list.count('Liberal')\n",
    "cpc_num = party_list.count('Conservative')\n",
    "ndp_num = party_list.count('NDP')\n",
    "print (other_num,lpc_num, cpc_num, ndp_num)\n",
    "y = [lpc_num, cpc_num, ndp_num]\n",
    "\n",
    "plt.plot(y, 'bs')\n",
    "plt.xlabel('Party')\n",
    "plt.ylabel('Number')\n",
    "plt.xticks(index, ( 'Liberal', 'Conservative', 'NDP'))\n",
    "plt.title(None)\n",
    "\n",
    "plt.show()"
   ]
  },
  {
   "cell_type": "markdown",
   "metadata": {
    "collapsed": true
   },
   "source": [
    "# Question 3 Model Preparation"
   ]
  },
  {
   "cell_type": "markdown",
   "metadata": {},
   "source": [
    "###### !!! This step will take around 10-20 min due to two while loop, please be patient.\n",
    "###### Thanks!!! I just don't have enought time to optimize the algorithm."
   ]
  },
  {
   "cell_type": "code",
   "execution_count": 2,
   "metadata": {
    "collapsed": true
   },
   "outputs": [],
   "source": [
    "#Word frequency counting function, it returns a list of count for each word from a tweet.\n",
    "def word_frequency(data):\n",
    "    data_sp = data.split() #split data to words\n",
    "    file = open('corpus.txt', 'r+')\n",
    "    line = file.readline()\n",
    "    wd_count = [] #list of count of each words\n",
    "    word = line.split() #split line to words list\n",
    "    count = data_sp.count(word[0])\n",
    "    wd_count.append(count) #add count of each words to the list\n",
    "    while line:\n",
    "        line = file.readline()\n",
    "        word = line.split()\n",
    "        if len(word):\n",
    "            count = data_sp.count(word[0])\n",
    "            #print(count)\n",
    "            wd_count.append(count)\n",
    "            #print(wd_count.append(count))\n",
    "    #print (test)\n",
    "    return wd_count #return the final list for one tweet\n",
    "    f.close()"
   ]
  },
  {
   "cell_type": "code",
   "execution_count": 3,
   "metadata": {
    "collapsed": true
   },
   "outputs": [],
   "source": [
    "#This step will run word frequency function for each tweet from classified \n",
    "file = open('classified_tweets.txt','r+')  # Open the file with read and write permit\n",
    "line = file.readline() # Read the first line\n",
    "line_sp = line.split(',')\n",
    "wd_fq = word_frequency(line)\n",
    "feature = []\n",
    "#we don't add the first line because it is the title\n",
    "#print(feature)\n",
    "while line:  # If the file is not empty keep reading line one at a time till the file is empty\n",
    "    line = file.readline()  # read the rest of the line\n",
    "    wd_fq = word_frequency(line)\n",
    "    feature.append(wd_fq)\n",
    "    #print(wd_fq)\n",
    "file.close()"
   ]
  },
  {
   "cell_type": "code",
   "execution_count": 245,
   "metadata": {},
   "outputs": [
    {
     "name": "stdout",
     "output_type": "stream",
     "text": [
      "200000\n"
     ]
    }
   ],
   "source": [
    "feature_a = np.asarray(feature[:-1]) \n",
    "#to keep the size of feature same to target\n",
    "#I have to remove the output due to the last line of classified.data file\n",
    "#which is '\\n' without target\n",
    "print(len(feature_a))"
   ]
  },
  {
   "cell_type": "code",
   "execution_count": 133,
   "metadata": {
    "collapsed": true
   },
   "outputs": [],
   "source": [
    "#print(feature_a)"
   ]
  },
  {
   "cell_type": "code",
   "execution_count": 246,
   "metadata": {
    "collapsed": true
   },
   "outputs": [],
   "source": [
    "#obtaining target data from calssified tweets & save it into an array\n",
    "df = pd.read_csv('classified_tweets.txt',  usecols=[\"class\"])\n",
    "target_df = df.iloc[:,0]\n",
    "target = target_df.as_matrix()\n",
    "#print(len(target))"
   ]
  },
  {
   "cell_type": "markdown",
   "metadata": {},
   "source": [
    "###### Split both feature and target data into traininng data(70%) and testing data(30%)"
   ]
  },
  {
   "cell_type": "code",
   "execution_count": 247,
   "metadata": {
    "collapsed": true
   },
   "outputs": [],
   "source": [
    "feature_train, feature_test, target_train, target_test = train_test_split(feature_a, target, test_size=0.3, stratify = target)\n",
    "#print (feature_train, feature_test, target_train, target_test)\n",
    "#print(len(feature_train),len(target_train))"
   ]
  },
  {
   "cell_type": "markdown",
   "metadata": {},
   "source": [
    "# Question 4 Logistic Regression"
   ]
  },
  {
   "cell_type": "code",
   "execution_count": 248,
   "metadata": {},
   "outputs": [
    {
     "name": "stdout",
     "output_type": "stream",
     "text": [
      "[4 4 4 ..., 0 0 0] [4 0 0 ..., 4 4 4] 0.66325 0.65545\n"
     ]
    }
   ],
   "source": [
    "logistic_regression = LogisticRegression()\n",
    "\n",
    "logistic_regression_model = logistic_regression.fit(feature_train, target_train)\n",
    "test_target_pred = logistic_regression_model.predict(feature_test)\n",
    "train_target_pred = logistic_regression_model.predict(feature_train)\n",
    "train_scores = metrics.accuracy_score(target_train, train_target_pred) #accuracy of training data\n",
    "test_scores = metrics.accuracy_score(target_test, test_target_pred) #accuracy of testing data\n",
    "\n",
    "print(test_target_pred, train_target_pred, train_scores,test_scores)"
   ]
  },
  {
   "cell_type": "code",
   "execution_count": 238,
   "metadata": {
    "collapsed": true
   },
   "outputs": [],
   "source": [
    "file = open('unclassified_tweets2.txt','r+')  # Open the file with read and write permit\n",
    "line = file.readline() # Read the first line\n",
    "line_sp = line.split(',')\n",
    "wd_fq = word_frequency(line)\n",
    "feature_un = []\n",
    "feature_un.append(wd_fq)\n",
    "#we add the first line because there is no title in unclassified data\n",
    "#print(feature)\n",
    "while line:  # If the file is not empty keep reading line one at a time till the file is empty\n",
    "    line = file.readline()  # read the rest of the line\n",
    "    wd_fq = word_frequency(line)\n",
    "    feature_un.append(wd_fq)\n",
    "    #print(wd_fq)\n",
    "file.close()"
   ]
  },
  {
   "cell_type": "code",
   "execution_count": 239,
   "metadata": {
    "collapsed": true
   },
   "outputs": [],
   "source": [
    "#feature from unclassified data\n",
    "feature_b = np.asarray(feature_un)"
   ]
  },
  {
   "cell_type": "code",
   "execution_count": 240,
   "metadata": {},
   "outputs": [
    {
     "name": "stdout",
     "output_type": "stream",
     "text": [
      "[4 4 0 ..., 4 4 4]\n",
      "pos 2762 neg 318\n"
     ]
    }
   ],
   "source": [
    "#predict result for unclassifited data by logistic regression model\n",
    "unclassfied_predict = logistic_regression_model.predict(feature_b)\n",
    "print(unclassfied_predict) \n",
    "\n",
    "pos_n = np.count_nonzero(unclassfied_predict)\n",
    "print('pos',pos_n, 'neg',len(unclassfied_predict)-pos_n) #number of positive tweet & number of negative tweet"
   ]
  },
  {
   "cell_type": "markdown",
   "metadata": {
    "collapsed": true
   },
   "source": [
    "# Question 5 Discussion"
   ]
  },
  {
   "cell_type": "markdown",
   "metadata": {},
   "source": [
    "#Q2: From the analysis & gragh in Quesiton 2, except the tweets cannot be identity to a specific party, it can be seen that Justin Trudeau and Liberty party have the most distribution of the political affiliations in tweets data. However, in classified tweet file, seems like not everyone talks about the politics. \n",
    "#Q4: The accuracy of the model is 66%\n",
    "#Q5: From the graph in Q2, we can see that the poplulation of people talking about Liberal is even greater than the sum of population of people talking about both NDP and Conversetive. This phenomenon matches the result of 2015 election, Liberal won the election and JT became the new PM. What's more, from the prediction of unclassified tweet, it shows more tweet are positive sentiment(89%), only fewer people have negative sentiment(11%). Which means most people have positive attitude to this election. "
   ]
  },
  {
   "cell_type": "markdown",
   "metadata": {},
   "source": [
    "# Bonus"
   ]
  },
  {
   "cell_type": "markdown",
   "metadata": {},
   "source": [
    "Predict unclassified tweet with Gaussian Naive Bayes algrithm"
   ]
  },
  {
   "cell_type": "code",
   "execution_count": 223,
   "metadata": {},
   "outputs": [
    {
     "name": "stdout",
     "output_type": "stream",
     "text": [
      "[4 4 0 ..., 4 4 4]\n"
     ]
    }
   ],
   "source": [
    "gnb = GaussianNB()\n",
    "y_pred = gnb.fit(feature_train, target_train).predict(feature_b)\n",
    "print (y_pred)"
   ]
  }
 ],
 "metadata": {
  "kernelspec": {
   "display_name": "Python 3",
   "language": "python",
   "name": "python3"
  },
  "language_info": {
   "codemirror_mode": {
    "name": "ipython",
    "version": 3
   },
   "file_extension": ".py",
   "mimetype": "text/x-python",
   "name": "python",
   "nbconvert_exporter": "python",
   "pygments_lexer": "ipython3",
   "version": "3.6.2"
  }
 },
 "nbformat": 4,
 "nbformat_minor": 2
}
